{
  "nbformat": 4,
  "nbformat_minor": 0,
  "metadata": {
    "colab": {
      "name": "Covid-19-Dashboard.ipynb",
      "provenance": [],
      "authorship_tag": "ABX9TyMsUnSz37JTJfnI8em20I2P",
      "include_colab_link": true
    },
    "kernelspec": {
      "name": "python3",
      "display_name": "Python 3"
    }
  },
  "cells": [
    {
      "cell_type": "markdown",
      "metadata": {
        "id": "view-in-github",
        "colab_type": "text"
      },
      "source": [
        "<a href=\"https://colab.research.google.com/github/tushar821999/Covid-19-India/blob/master/Covid_19_Dashboard.ipynb\" target=\"_parent\"><img src=\"https://colab.research.google.com/assets/colab-badge.svg\" alt=\"Open In Colab\"/></a>"
      ]
    },
    {
      "cell_type": "code",
      "metadata": {
        "id": "JSz1cSFgMKdN",
        "colab_type": "code",
        "colab": {
          "base_uri": "https://localhost:8080/",
          "height": 281
        },
        "outputId": "3023ce65-4908-4c0f-e3a9-cb8650cb2b37"
      },
      "source": [
        "!pip install flask-ngrok"
      ],
      "execution_count": 1,
      "outputs": [
        {
          "output_type": "stream",
          "text": [
            "Collecting flask-ngrok\n",
            "  Downloading https://files.pythonhosted.org/packages/af/6c/f54cb686ad1129e27d125d182f90f52b32f284e6c8df58c1bae54fa1adbc/flask_ngrok-0.0.25-py3-none-any.whl\n",
            "Requirement already satisfied: Flask>=0.8 in /usr/local/lib/python3.6/dist-packages (from flask-ngrok) (1.1.2)\n",
            "Requirement already satisfied: requests in /usr/local/lib/python3.6/dist-packages (from flask-ngrok) (2.23.0)\n",
            "Requirement already satisfied: Jinja2>=2.10.1 in /usr/local/lib/python3.6/dist-packages (from Flask>=0.8->flask-ngrok) (2.11.2)\n",
            "Requirement already satisfied: Werkzeug>=0.15 in /usr/local/lib/python3.6/dist-packages (from Flask>=0.8->flask-ngrok) (1.0.1)\n",
            "Requirement already satisfied: click>=5.1 in /usr/local/lib/python3.6/dist-packages (from Flask>=0.8->flask-ngrok) (7.1.2)\n",
            "Requirement already satisfied: itsdangerous>=0.24 in /usr/local/lib/python3.6/dist-packages (from Flask>=0.8->flask-ngrok) (1.1.0)\n",
            "Requirement already satisfied: idna<3,>=2.5 in /usr/local/lib/python3.6/dist-packages (from requests->flask-ngrok) (2.9)\n",
            "Requirement already satisfied: chardet<4,>=3.0.2 in /usr/local/lib/python3.6/dist-packages (from requests->flask-ngrok) (3.0.4)\n",
            "Requirement already satisfied: certifi>=2017.4.17 in /usr/local/lib/python3.6/dist-packages (from requests->flask-ngrok) (2020.4.5.1)\n",
            "Requirement already satisfied: urllib3!=1.25.0,!=1.25.1,<1.26,>=1.21.1 in /usr/local/lib/python3.6/dist-packages (from requests->flask-ngrok) (1.24.3)\n",
            "Requirement already satisfied: MarkupSafe>=0.23 in /usr/local/lib/python3.6/dist-packages (from Jinja2>=2.10.1->Flask>=0.8->flask-ngrok) (1.1.1)\n",
            "Installing collected packages: flask-ngrok\n",
            "Successfully installed flask-ngrok-0.0.25\n"
          ],
          "name": "stdout"
        }
      ]
    },
    {
      "cell_type": "markdown",
      "metadata": {
        "id": "7ZqAG4LkZ3p6",
        "colab_type": "text"
      },
      "source": [
        "<html>\n",
        "  <head>\n",
        "    <title>Semantic UI's</title>\n",
        "    <link rel=\"stylesheet\" href=\"https://cdn.jsdelivr.net/npm/semantic-ui@2.4.2/dist/semantic.min.css\">\n",
        "    <script src=\"https://cdn.jsdelivr.net/npm/semantic-ui@2.4.2/dist/semantic.min.js\"></script>\n",
        "  </head>\n",
        "  <body>\n",
        "    <h1>Covid-19-India</h1>\n",
        "    <div class=\"ui statistic\">\n",
        "      <div class=\"statistic\">\n",
        "        <div class=\"value\">\n",
        "          <img src=\"https://img.icons8.com/bubbles/50/000000/coronavirus.png\" class=\"ui circular inline image\"/>\n",
        "          42\n",
        "        </div>\n",
        "        <div class=\"label\">\n",
        "          Active\n",
        "        </div>\n",
        "      </div>\n",
        "      \n",
        "      <div class=\"statistic\">\n",
        "        <div class=\"value\">\n",
        "          <img src=\"https://img.icons8.com/bubbles/50/000000/coronavirus.png\" class=\"ui circular inline image\"/>\n",
        "          2032\n",
        "        </div>\n",
        "        <div class=\"label\">\n",
        "          Confirmed\n",
        "        </div>\n",
        "      </div>\n",
        " \n",
        "      <div class=\"statistic\">\n",
        "        <div class=\"value\">\n",
        "          <img src=\"https://img.icons8.com/bubbles/50/000000/coronavirus.png\" class=\"ui circular inline image\"/>\n",
        "          2032\n",
        "        </div>\n",
        "        <div class=\"label\">\n",
        "          Deaths\n",
        "        </div>\n",
        "      </div>      \n",
        "      \n",
        "       <div class=\"statistic\">\n",
        "        <div class=\"value\">\n",
        "          <img src=\"https://img.icons8.com/bubbles/50/000000/coronavirus.png\" class=\"ui circular inline image\"/>\n",
        "          2032\n",
        "        </div>\n",
        "        <div class=\"label\">\n",
        "          Recovered\n",
        "        </div>\n",
        "      </div>      \n",
        "      \n",
        "    </div>\n",
        "  </body>\n",
        "</html>"
      ]
    }
  ]
}