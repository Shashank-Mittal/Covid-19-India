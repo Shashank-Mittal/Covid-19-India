{
  "nbformat": 4,
  "nbformat_minor": 0,
  "metadata": {
    "colab": {
      "name": "Covid-19-Dashboard.ipynb",
      "provenance": [],
      "authorship_tag": "ABX9TyOaydBp+W7gGgOauU9Ky2HN",
      "include_colab_link": true
    },
    "kernelspec": {
      "name": "python3",
      "display_name": "Python 3"
    }
  },
  "cells": [
    {
      "cell_type": "markdown",
      "metadata": {
        "id": "view-in-github",
        "colab_type": "text"
      },
      "source": [
        "<a href=\"https://colab.research.google.com/github/tushar821999/Covid-19-India/blob/master/Covid_19_Dashboard.ipynb\" target=\"_parent\"><img src=\"https://colab.research.google.com/assets/colab-badge.svg\" alt=\"Open In Colab\"/></a>"
      ]
    },
    {
      "cell_type": "code",
      "metadata": {
        "id": "JSz1cSFgMKdN",
        "colab_type": "code",
        "colab": {}
      },
      "source": [
        "pip install flask-ngrok"
      ],
      "execution_count": 0,
      "outputs": []
    },
    {
      "cell_type": "code",
      "metadata": {
        "id": "Tmv4Gxoaj1hi",
        "colab_type": "code",
        "colab": {
          "base_uri": "https://localhost:8080/",
          "height": 135
        },
        "outputId": "2549e428-0755-418d-d8b3-118b22ca59ce"
      },
      "source": [
        "import urllib.request,json\n",
        "api_url = \"http://covid19-india-adhikansh.herokuapp.com/states\"\n",
        "with urllib.request.urlopen(api_url) as url:\n",
        "  data = json.loads(url.read().decode())\n",
        "  print(data)\n",
        "state_list = []\n",
        "confirmed_list=[]\n",
        "cured_list=[]\n",
        "death_list=[]\n",
        "total_list=[]\n",
        "for i in data['state']:\n",
        "  state_list.append(i['name'])\n",
        "for i in range(33):\n",
        "  confirmed_list.append(data['state'][i]['confirmed'])\n",
        "for i in range(33):\n",
        "  cured_list.append(data['state'][i]['cured'])\n",
        "for i in range(33):\n",
        "  death_list.append(data['state'][i]['death'])\n",
        "for i in range(33):\n",
        "  total_list.append(data['state'][i]['total'])  \n",
        "print(state_list)\n",
        "print(confirmed_list)\n",
        "print(cured_list)\n",
        "print(death_list)\n",
        "print(total_list)     "
      ],
      "execution_count": 50,
      "outputs": [
        {
          "output_type": "stream",
          "text": [
            "{'state': [{'_id': '5e9bd7c9a67dbb077cf049e6', 'name': 'Andaman and Nicobar Islands', 'confirmed': 33, 'cured': 33, 'death': 0, 'total': 66}, {'_id': '5e9bd7c9a67dbb077cf049e7', 'name': 'Andhra Pradesh', 'confirmed': 1887, 'cured': 842, 'death': 41, 'total': 2770}, {'_id': '5e9bd7caa67dbb077cf049e8', 'name': 'Arunachal Pradesh', 'confirmed': 1, 'cured': 1, 'death': 0, 'total': 2}, {'_id': '5e9bd7caa67dbb077cf049e9', 'name': 'Assam', 'confirmed': 59, 'cured': 34, 'death': 1, 'total': 94}, {'_id': '5e9bd7caa67dbb077cf049ea', 'name': 'Bihar', 'confirmed': 571, 'cured': 297, 'death': 5, 'total': 873}, {'_id': '5e9bd7caa67dbb077cf049eb', 'name': 'Chandigarh', 'confirmed': 150, 'cured': 21, 'death': 1, 'total': 172}, {'_id': '5e9bd7cba67dbb077cf049ec', 'name': 'Chhattisgarh', 'confirmed': 59, 'cured': 38, 'death': 0, 'total': 97}, {'_id': '5e9bd7cba67dbb077cf049ed', 'name': 'Delhi', 'confirmed': 6318, 'cured': 2020, 'death': 68, 'total': 8406}, {'_id': '5e9bd7cba67dbb077cf049ee', 'name': 'Goa', 'confirmed': 7, 'cured': 7, 'death': 0, 'total': 14}, {'_id': '5e9bd7cba67dbb077cf049ef', 'name': 'Gujarat', 'confirmed': 7402, 'cured': 1872, 'death': 449, 'total': 9723}, {'_id': '5e9bd7cca67dbb077cf049f0', 'name': 'Haryana', 'confirmed': 647, 'cured': 279, 'death': 8, 'total': 934}, {'_id': '5e9bd7cca67dbb077cf049f1', 'name': 'Himachal Pradesh', 'confirmed': 50, 'cured': 38, 'death': 2, 'total': 90}, {'_id': '5e9bd7cca67dbb077cf049f2', 'name': 'Jammu and Kashmir', 'confirmed': 823, 'cured': 364, 'death': 9, 'total': 1196}, {'_id': '5e9bd7cda67dbb077cf049f3', 'name': 'Jharkhand', 'confirmed': 132, 'cured': 52, 'death': 3, 'total': 187}, {'_id': '5e9bd7cda67dbb077cf049f4', 'name': 'Karnataka', 'confirmed': 753, 'cured': 376, 'death': 30, 'total': 1159}, {'_id': '5e9bd7cda67dbb077cf049f5', 'name': 'Kerala', 'confirmed': 503, 'cured': 484, 'death': 4, 'total': 991}, {'_id': '5e9bd7cea67dbb077cf049f6', 'name': 'Ladakh', 'confirmed': 42, 'cured': 17, 'death': 0, 'total': 59}, {'_id': '5e9bd7cea67dbb077cf049f7', 'name': 'Madhya Pradesh', 'confirmed': 3341, 'cured': 1349, 'death': 200, 'total': 4890}, {'_id': '5e9bd7cea67dbb077cf049f8', 'name': 'Maharashtra', 'confirmed': 19063, 'cured': 3470, 'death': 731, 'total': 23264}, {'_id': '5e9bd7cea67dbb077cf049f9', 'name': 'Manipur', 'confirmed': 2, 'cured': 2, 'death': 0, 'total': 4}, {'_id': '5e9bd7cfa67dbb077cf049fa', 'name': 'Meghalaya', 'confirmed': 12, 'cured': 10, 'death': 1, 'total': 23}, {'_id': '5e9bd7cfa67dbb077cf049fb', 'name': 'Mizoram', 'confirmed': 1, 'cured': 0, 'death': 0, 'total': 1}, {'_id': '5e9bd7cfa67dbb077cf049fc', 'name': 'Nagaland#', 'confirmed': 0, 'cured': 0, 'death': 0, 'total': 0}, {'_id': '5e9bd7d0a67dbb077cf049fd', 'name': 'Odisha', 'confirmed': 271, 'cured': 63, 'death': 2, 'total': 336}, {'_id': '5e9bd7d0a67dbb077cf049fe', 'name': 'Puducherry', 'confirmed': 9, 'cured': 6, 'death': 0, 'total': 15}, {'_id': '5e9bd7d0a67dbb077cf049ff', 'name': 'Punjab', 'confirmed': 1731, 'cured': 152, 'death': 29, 'total': 1912}, {'_id': '5e9bd7d0a67dbb077cf04a00', 'name': 'Rajasthan', 'confirmed': 3579, 'cured': 1916, 'death': 101, 'total': 5596}, {'_id': '5e9bd7d1a67dbb077cf04a01', 'name': 'Tamil Nadu', 'confirmed': 6009, 'cured': 1605, 'death': 40, 'total': 7654}, {'_id': '5e9bd7d1a67dbb077cf04a02', 'name': 'Telengana', 'confirmed': 1133, 'cured': 700, 'death': 29, 'total': 1862}, {'_id': '5e9bd7d1a67dbb077cf04a03', 'name': 'Tripura', 'confirmed': 118, 'cured': 2, 'death': 0, 'total': 120}, {'_id': '5e9bd7d2a67dbb077cf04a04', 'name': 'Uttarakhand', 'confirmed': 63, 'cured': 46, 'death': 1, 'total': 110}, {'_id': '5e9bd7d2a67dbb077cf04a05', 'name': 'Uttar Pradesh', 'confirmed': 3214, 'cured': 1387, 'death': 66, 'total': 4667}, {'_id': '5e9bd7d2a67dbb077cf04a06', 'name': 'West Bengal', 'confirmed': 1678, 'cured': 364, 'death': 160, 'total': 2202}]}\n",
            "['Andaman and Nicobar Islands', 'Andhra Pradesh', 'Arunachal Pradesh', 'Assam', 'Bihar', 'Chandigarh', 'Chhattisgarh', 'Delhi', 'Goa', 'Gujarat', 'Haryana', 'Himachal Pradesh', 'Jammu and Kashmir', 'Jharkhand', 'Karnataka', 'Kerala', 'Ladakh', 'Madhya Pradesh', 'Maharashtra', 'Manipur', 'Meghalaya', 'Mizoram', 'Nagaland#', 'Odisha', 'Puducherry', 'Punjab', 'Rajasthan', 'Tamil Nadu', 'Telengana', 'Tripura', 'Uttarakhand', 'Uttar Pradesh', 'West Bengal']\n",
            "[33, 1887, 1, 59, 571, 150, 59, 6318, 7, 7402, 647, 50, 823, 132, 753, 503, 42, 3341, 19063, 2, 12, 1, 0, 271, 9, 1731, 3579, 6009, 1133, 118, 63, 3214, 1678]\n",
            "[33, 842, 1, 34, 297, 21, 38, 2020, 7, 1872, 279, 38, 364, 52, 376, 484, 17, 1349, 3470, 2, 10, 0, 0, 63, 6, 152, 1916, 1605, 700, 2, 46, 1387, 364]\n",
            "[0, 41, 0, 1, 5, 1, 0, 68, 0, 449, 8, 2, 9, 3, 30, 4, 0, 200, 731, 0, 1, 0, 0, 2, 0, 29, 101, 40, 29, 0, 1, 66, 160]\n",
            "[66, 2770, 2, 94, 873, 172, 97, 8406, 14, 9723, 934, 90, 1196, 187, 1159, 991, 59, 4890, 23264, 4, 23, 1, 0, 336, 15, 1912, 5596, 7654, 1862, 120, 110, 4667, 2202]\n"
          ],
          "name": "stdout"
        }
      ]
    },
    {
      "cell_type": "code",
      "metadata": {
        "id": "FI9L2jy5dRev",
        "colab_type": "code",
        "colab": {
          "base_uri": "https://localhost:8080/",
          "height": 297
        },
        "outputId": "47cfa948-f223-4a23-d56b-fcfe209b3d47"
      },
      "source": [
        "from flask_ngrok import run_with_ngrok\n",
        "from flask import Flask,render_template\n",
        "import urllib.request,json\n",
        "\n",
        "app = Flask(__name__)\n",
        "run_with_ngrok(app)\n",
        "\n",
        "@app.route(\"/\")\n",
        "def home():\n",
        "  api_url = \"http://covid19-india-adhikansh.herokuapp.com/states\"\n",
        "  with urllib.request.urlopen(api_url) as url:\n",
        "    data = json.loads(url.read().decode())\n",
        "    print(data)\n",
        "  state_list = []\n",
        "  confirmed_list=[]\n",
        "  cured_list=[]\n",
        "  death_list=[]\n",
        "  total_list=[]\n",
        "  for i in data['state']:\n",
        "    state_list.append(i['name'])\n",
        "  for i in range(33):\n",
        "    confirmed_list.append(data['state'][i]['confirmed'])\n",
        "  for i in range(33):\n",
        "    cured_list.append(data['state'][i]['cured'])\n",
        "  for i in range(33):\n",
        "    death_list.append(data['state'][i]['death'])\n",
        "  for i in range(33):\n",
        "    total_list.append(data['state'][i]['total'])  \n",
        "  print(state_list)\n",
        "  print(confirmed_list)\n",
        "  print(cured_list)\n",
        "  print(death_list)\n",
        "  print(total_list)\n",
        "  return render_template('index.html',state=state_list,confirmed=confimed_list,cured=cured_list,death=death_list,total=total_list)\n",
        "\n",
        "if __name__ =='__main__':\n",
        "    app.run()"
      ],
      "execution_count": 56,
      "outputs": [
        {
          "output_type": "stream",
          "text": [
            " * Serving Flask app \"__main__\" (lazy loading)\n",
            " * Environment: production\n",
            "\u001b[31m   WARNING: This is a development server. Do not use it in a production deployment.\u001b[0m\n",
            "\u001b[2m   Use a production WSGI server instead.\u001b[0m\n",
            " * Debug mode: off\n"
          ],
          "name": "stdout"
        },
        {
          "output_type": "stream",
          "text": [
            " * Running on http://127.0.0.1:5000/ (Press CTRL+C to quit)\n"
          ],
          "name": "stderr"
        },
        {
          "output_type": "stream",
          "text": [
            " * Running on http://1fd17025.ngrok.io\n",
            " * Traffic stats available on http://127.0.0.1:4040\n"
          ],
          "name": "stdout"
        },
        {
          "output_type": "stream",
          "text": [
            "127.0.0.1 - - [10/May/2020 09:20:47] \"\u001b[37mGET / HTTP/1.1\u001b[0m\" 200 -\n"
          ],
          "name": "stderr"
        },
        {
          "output_type": "stream",
          "text": [
            "{'state': [{'_id': '5e9bd7c9a67dbb077cf049e6', 'name': 'Andaman and Nicobar Islands', 'confirmed': 33, 'cured': 33, 'death': 0, 'total': 66}, {'_id': '5e9bd7c9a67dbb077cf049e7', 'name': 'Andhra Pradesh', 'confirmed': 1887, 'cured': 842, 'death': 41, 'total': 2770}, {'_id': '5e9bd7caa67dbb077cf049e8', 'name': 'Arunachal Pradesh', 'confirmed': 1, 'cured': 1, 'death': 0, 'total': 2}, {'_id': '5e9bd7caa67dbb077cf049e9', 'name': 'Assam', 'confirmed': 59, 'cured': 34, 'death': 1, 'total': 94}, {'_id': '5e9bd7caa67dbb077cf049ea', 'name': 'Bihar', 'confirmed': 571, 'cured': 297, 'death': 5, 'total': 873}, {'_id': '5e9bd7caa67dbb077cf049eb', 'name': 'Chandigarh', 'confirmed': 150, 'cured': 21, 'death': 1, 'total': 172}, {'_id': '5e9bd7cba67dbb077cf049ec', 'name': 'Chhattisgarh', 'confirmed': 59, 'cured': 38, 'death': 0, 'total': 97}, {'_id': '5e9bd7cba67dbb077cf049ed', 'name': 'Delhi', 'confirmed': 6318, 'cured': 2020, 'death': 68, 'total': 8406}, {'_id': '5e9bd7cba67dbb077cf049ee', 'name': 'Goa', 'confirmed': 7, 'cured': 7, 'death': 0, 'total': 14}, {'_id': '5e9bd7cba67dbb077cf049ef', 'name': 'Gujarat', 'confirmed': 7402, 'cured': 1872, 'death': 449, 'total': 9723}, {'_id': '5e9bd7cca67dbb077cf049f0', 'name': 'Haryana', 'confirmed': 647, 'cured': 279, 'death': 8, 'total': 934}, {'_id': '5e9bd7cca67dbb077cf049f1', 'name': 'Himachal Pradesh', 'confirmed': 50, 'cured': 38, 'death': 2, 'total': 90}, {'_id': '5e9bd7cca67dbb077cf049f2', 'name': 'Jammu and Kashmir', 'confirmed': 823, 'cured': 364, 'death': 9, 'total': 1196}, {'_id': '5e9bd7cda67dbb077cf049f3', 'name': 'Jharkhand', 'confirmed': 132, 'cured': 52, 'death': 3, 'total': 187}, {'_id': '5e9bd7cda67dbb077cf049f4', 'name': 'Karnataka', 'confirmed': 753, 'cured': 376, 'death': 30, 'total': 1159}, {'_id': '5e9bd7cda67dbb077cf049f5', 'name': 'Kerala', 'confirmed': 503, 'cured': 484, 'death': 4, 'total': 991}, {'_id': '5e9bd7cea67dbb077cf049f6', 'name': 'Ladakh', 'confirmed': 42, 'cured': 17, 'death': 0, 'total': 59}, {'_id': '5e9bd7cea67dbb077cf049f7', 'name': 'Madhya Pradesh', 'confirmed': 3341, 'cured': 1349, 'death': 200, 'total': 4890}, {'_id': '5e9bd7cea67dbb077cf049f8', 'name': 'Maharashtra', 'confirmed': 19063, 'cured': 3470, 'death': 731, 'total': 23264}, {'_id': '5e9bd7cea67dbb077cf049f9', 'name': 'Manipur', 'confirmed': 2, 'cured': 2, 'death': 0, 'total': 4}, {'_id': '5e9bd7cfa67dbb077cf049fa', 'name': 'Meghalaya', 'confirmed': 12, 'cured': 10, 'death': 1, 'total': 23}, {'_id': '5e9bd7cfa67dbb077cf049fb', 'name': 'Mizoram', 'confirmed': 1, 'cured': 0, 'death': 0, 'total': 1}, {'_id': '5e9bd7cfa67dbb077cf049fc', 'name': 'Nagaland#', 'confirmed': 0, 'cured': 0, 'death': 0, 'total': 0}, {'_id': '5e9bd7d0a67dbb077cf049fd', 'name': 'Odisha', 'confirmed': 271, 'cured': 63, 'death': 2, 'total': 336}, {'_id': '5e9bd7d0a67dbb077cf049fe', 'name': 'Puducherry', 'confirmed': 9, 'cured': 6, 'death': 0, 'total': 15}, {'_id': '5e9bd7d0a67dbb077cf049ff', 'name': 'Punjab', 'confirmed': 1731, 'cured': 152, 'death': 29, 'total': 1912}, {'_id': '5e9bd7d0a67dbb077cf04a00', 'name': 'Rajasthan', 'confirmed': 3579, 'cured': 1916, 'death': 101, 'total': 5596}, {'_id': '5e9bd7d1a67dbb077cf04a01', 'name': 'Tamil Nadu', 'confirmed': 6009, 'cured': 1605, 'death': 40, 'total': 7654}, {'_id': '5e9bd7d1a67dbb077cf04a02', 'name': 'Telengana', 'confirmed': 1133, 'cured': 700, 'death': 29, 'total': 1862}, {'_id': '5e9bd7d1a67dbb077cf04a03', 'name': 'Tripura', 'confirmed': 118, 'cured': 2, 'death': 0, 'total': 120}, {'_id': '5e9bd7d2a67dbb077cf04a04', 'name': 'Uttarakhand', 'confirmed': 63, 'cured': 46, 'death': 1, 'total': 110}, {'_id': '5e9bd7d2a67dbb077cf04a05', 'name': 'Uttar Pradesh', 'confirmed': 3214, 'cured': 1387, 'death': 66, 'total': 4667}, {'_id': '5e9bd7d2a67dbb077cf04a06', 'name': 'West Bengal', 'confirmed': 1678, 'cured': 364, 'death': 160, 'total': 2202}]}\n",
            "['Andaman and Nicobar Islands', 'Andhra Pradesh', 'Arunachal Pradesh', 'Assam', 'Bihar', 'Chandigarh', 'Chhattisgarh', 'Delhi', 'Goa', 'Gujarat', 'Haryana', 'Himachal Pradesh', 'Jammu and Kashmir', 'Jharkhand', 'Karnataka', 'Kerala', 'Ladakh', 'Madhya Pradesh', 'Maharashtra', 'Manipur', 'Meghalaya', 'Mizoram', 'Nagaland#', 'Odisha', 'Puducherry', 'Punjab', 'Rajasthan', 'Tamil Nadu', 'Telengana', 'Tripura', 'Uttarakhand', 'Uttar Pradesh', 'West Bengal']\n",
            "[33, 1887, 1, 59, 571, 150, 59, 6318, 7, 7402, 647, 50, 823, 132, 753, 503, 42, 3341, 19063, 2, 12, 1, 0, 271, 9, 1731, 3579, 6009, 1133, 118, 63, 3214, 1678]\n",
            "[33, 842, 1, 34, 297, 21, 38, 2020, 7, 1872, 279, 38, 364, 52, 376, 484, 17, 1349, 3470, 2, 10, 0, 0, 63, 6, 152, 1916, 1605, 700, 2, 46, 1387, 364]\n",
            "[0, 41, 0, 1, 5, 1, 0, 68, 0, 449, 8, 2, 9, 3, 30, 4, 0, 200, 731, 0, 1, 0, 0, 2, 0, 29, 101, 40, 29, 0, 1, 66, 160]\n",
            "[66, 2770, 2, 94, 873, 172, 97, 8406, 14, 9723, 934, 90, 1196, 187, 1159, 991, 59, 4890, 23264, 4, 23, 1, 0, 336, 15, 1912, 5596, 7654, 1862, 120, 110, 4667, 2202]\n"
          ],
          "name": "stdout"
        },
        {
          "output_type": "stream",
          "text": [
            "127.0.0.1 - - [10/May/2020 09:20:49] \"\u001b[33mGET /favicon.ico HTTP/1.1\u001b[0m\" 404 -\n"
          ],
          "name": "stderr"
        }
      ]
    }
  ]
}